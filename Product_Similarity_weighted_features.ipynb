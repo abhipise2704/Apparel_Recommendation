{
 "cells": [
  {
   "cell_type": "code",
   "execution_count": 1,
   "metadata": {},
   "outputs": [],
   "source": [
    "#Dataset downloaded from:: https://nijianmo.github.io/amazon/index.html"
   ]
  },
  {
   "cell_type": "code",
   "execution_count": 3,
   "metadata": {},
   "outputs": [],
   "source": [
    "#!pip install tensorflow_hub"
   ]
  },
  {
   "cell_type": "code",
   "execution_count": 2,
   "metadata": {},
   "outputs": [],
   "source": [
    "#!pip install tensorflow==1.15.4 --user"
   ]
  },
  {
   "cell_type": "code",
   "execution_count": 1,
   "metadata": {},
   "outputs": [],
   "source": [
    " import tensorflow_hub as hub"
   ]
  },
  {
   "cell_type": "markdown",
   "metadata": {},
   "source": [
    "# Importing Libraries & Basic Preprocesing "
   ]
  },
  {
   "cell_type": "code",
   "execution_count": 1,
   "metadata": {},
   "outputs": [],
   "source": [
    "#import all the necessary packages.\n",
    "\n",
    "from PIL import Image\n",
    "import requests\n",
    "from io import BytesIO\n",
    "import matplotlib.pyplot as plt\n",
    "import numpy as np\n",
    "import pandas as pd\n",
    "import warnings\n",
    "from nltk.corpus import stopwords\n",
    "from nltk.tokenize import word_tokenize\n",
    "import nltk\n",
    "import math\n",
    "import time\n",
    "import re\n",
    "import os\n",
    "from collections import Counter\n",
    "from sklearn.feature_extraction.text import CountVectorizer\n",
    "from sklearn.feature_extraction.text import TfidfVectorizer\n",
    "from sklearn.metrics.pairwise import cosine_similarity  \n",
    "from sklearn.metrics import pairwise_distances\n",
    "from matplotlib import gridspec\n",
    "from scipy.sparse import hstack\n",
    "\n",
    "warnings.filterwarnings(\"ignore\")"
   ]
  },
  {
   "cell_type": "code",
   "execution_count": 3,
   "metadata": {},
   "outputs": [],
   "source": [
    "# loading the data using pandas' read_json file.\n",
    "data = pd.read_json('tops_fashion.json')"
   ]
  },
  {
   "cell_type": "code",
   "execution_count": 4,
   "metadata": {},
   "outputs": [
    {
     "data": {
      "text/html": [
       "<div>\n",
       "<style scoped>\n",
       "    .dataframe tbody tr th:only-of-type {\n",
       "        vertical-align: middle;\n",
       "    }\n",
       "\n",
       "    .dataframe tbody tr th {\n",
       "        vertical-align: top;\n",
       "    }\n",
       "\n",
       "    .dataframe thead th {\n",
       "        text-align: right;\n",
       "    }\n",
       "</style>\n",
       "<table border=\"1\" class=\"dataframe\">\n",
       "  <thead>\n",
       "    <tr style=\"text-align: right;\">\n",
       "      <th></th>\n",
       "      <th>sku</th>\n",
       "      <th>asin</th>\n",
       "      <th>product_type_name</th>\n",
       "      <th>formatted_price</th>\n",
       "      <th>author</th>\n",
       "      <th>color</th>\n",
       "      <th>brand</th>\n",
       "      <th>publisher</th>\n",
       "      <th>availability</th>\n",
       "      <th>reviews</th>\n",
       "      <th>large_image_url</th>\n",
       "      <th>availability_type</th>\n",
       "      <th>small_image_url</th>\n",
       "      <th>editorial_review</th>\n",
       "      <th>title</th>\n",
       "      <th>model</th>\n",
       "      <th>medium_image_url</th>\n",
       "      <th>manufacturer</th>\n",
       "      <th>editorial_reivew</th>\n",
       "    </tr>\n",
       "  </thead>\n",
       "  <tbody>\n",
       "    <tr>\n",
       "      <th>0</th>\n",
       "      <td>None</td>\n",
       "      <td>B016I2TS4W</td>\n",
       "      <td>SHIRT</td>\n",
       "      <td>None</td>\n",
       "      <td>None</td>\n",
       "      <td>None</td>\n",
       "      <td>FNC7C</td>\n",
       "      <td>None</td>\n",
       "      <td>None</td>\n",
       "      <td>[False, https://www.amazon.com/reviews/iframe?...</td>\n",
       "      <td>https://images-na.ssl-images-amazon.com/images...</td>\n",
       "      <td>None</td>\n",
       "      <td>https://images-na.ssl-images-amazon.com/images...</td>\n",
       "      <td>Minions Como Superheroes Ironman Women's O Nec...</td>\n",
       "      <td>Minions Como Superheroes Ironman Long Sleeve R...</td>\n",
       "      <td>None</td>\n",
       "      <td>https://images-na.ssl-images-amazon.com/images...</td>\n",
       "      <td>None</td>\n",
       "      <td>NaN</td>\n",
       "    </tr>\n",
       "    <tr>\n",
       "      <th>1</th>\n",
       "      <td>None</td>\n",
       "      <td>B01N49AI08</td>\n",
       "      <td>SHIRT</td>\n",
       "      <td>None</td>\n",
       "      <td>None</td>\n",
       "      <td>None</td>\n",
       "      <td>FIG Clothing</td>\n",
       "      <td>None</td>\n",
       "      <td>None</td>\n",
       "      <td>[False, https://www.amazon.com/reviews/iframe?...</td>\n",
       "      <td>https://images-na.ssl-images-amazon.com/images...</td>\n",
       "      <td>None</td>\n",
       "      <td>https://images-na.ssl-images-amazon.com/images...</td>\n",
       "      <td>Sizing runs on the small side. FIG® recommends...</td>\n",
       "      <td>FIG Clothing Womens Izo Tunic</td>\n",
       "      <td>None</td>\n",
       "      <td>https://images-na.ssl-images-amazon.com/images...</td>\n",
       "      <td>None</td>\n",
       "      <td>NaN</td>\n",
       "    </tr>\n",
       "    <tr>\n",
       "      <th>2</th>\n",
       "      <td>None</td>\n",
       "      <td>B01JDPCOHO</td>\n",
       "      <td>SHIRT</td>\n",
       "      <td>None</td>\n",
       "      <td>None</td>\n",
       "      <td>None</td>\n",
       "      <td>FIG Clothing</td>\n",
       "      <td>None</td>\n",
       "      <td>None</td>\n",
       "      <td>[False, https://www.amazon.com/reviews/iframe?...</td>\n",
       "      <td>https://images-na.ssl-images-amazon.com/images...</td>\n",
       "      <td>None</td>\n",
       "      <td>https://images-na.ssl-images-amazon.com/images...</td>\n",
       "      <td>Sizing runs on the small side. FIG® recommends...</td>\n",
       "      <td>FIG Clothing Womens Won Top</td>\n",
       "      <td>None</td>\n",
       "      <td>https://images-na.ssl-images-amazon.com/images...</td>\n",
       "      <td>None</td>\n",
       "      <td>NaN</td>\n",
       "    </tr>\n",
       "  </tbody>\n",
       "</table>\n",
       "</div>"
      ],
      "text/plain": [
       "    sku        asin product_type_name formatted_price author color  \\\n",
       "0  None  B016I2TS4W             SHIRT            None   None  None   \n",
       "1  None  B01N49AI08             SHIRT            None   None  None   \n",
       "2  None  B01JDPCOHO             SHIRT            None   None  None   \n",
       "\n",
       "          brand publisher availability  \\\n",
       "0         FNC7C      None         None   \n",
       "1  FIG Clothing      None         None   \n",
       "2  FIG Clothing      None         None   \n",
       "\n",
       "                                             reviews  \\\n",
       "0  [False, https://www.amazon.com/reviews/iframe?...   \n",
       "1  [False, https://www.amazon.com/reviews/iframe?...   \n",
       "2  [False, https://www.amazon.com/reviews/iframe?...   \n",
       "\n",
       "                                     large_image_url availability_type  \\\n",
       "0  https://images-na.ssl-images-amazon.com/images...              None   \n",
       "1  https://images-na.ssl-images-amazon.com/images...              None   \n",
       "2  https://images-na.ssl-images-amazon.com/images...              None   \n",
       "\n",
       "                                     small_image_url  \\\n",
       "0  https://images-na.ssl-images-amazon.com/images...   \n",
       "1  https://images-na.ssl-images-amazon.com/images...   \n",
       "2  https://images-na.ssl-images-amazon.com/images...   \n",
       "\n",
       "                                    editorial_review  \\\n",
       "0  Minions Como Superheroes Ironman Women's O Nec...   \n",
       "1  Sizing runs on the small side. FIG® recommends...   \n",
       "2  Sizing runs on the small side. FIG® recommends...   \n",
       "\n",
       "                                               title model  \\\n",
       "0  Minions Como Superheroes Ironman Long Sleeve R...  None   \n",
       "1                      FIG Clothing Womens Izo Tunic  None   \n",
       "2                        FIG Clothing Womens Won Top  None   \n",
       "\n",
       "                                    medium_image_url manufacturer  \\\n",
       "0  https://images-na.ssl-images-amazon.com/images...         None   \n",
       "1  https://images-na.ssl-images-amazon.com/images...         None   \n",
       "2  https://images-na.ssl-images-amazon.com/images...         None   \n",
       "\n",
       "  editorial_reivew  \n",
       "0              NaN  \n",
       "1              NaN  \n",
       "2              NaN  "
      ]
     },
     "execution_count": 4,
     "metadata": {},
     "output_type": "execute_result"
    }
   ],
   "source": [
    "data.head(3)"
   ]
  },
  {
   "cell_type": "code",
   "execution_count": 5,
   "metadata": {},
   "outputs": [],
   "source": [
    "#data.to_csv('amazon_apparel.csv')"
   ]
  },
  {
   "cell_type": "code",
   "execution_count": 6,
   "metadata": {},
   "outputs": [
    {
     "name": "stdout",
     "output_type": "stream",
     "text": [
      "================================================================================\n",
      "Number of data points in data= 183138\n",
      "--------------------------------------------------------------------------------\n",
      "Number of Columns in data= 19\n",
      "--------------------------------------------------------------------------------\n",
      "The attributes(columns or features) of data =\n",
      " ['sku' 'asin' 'product_type_name' 'formatted_price' 'author' 'color'\n",
      " 'brand' 'publisher' 'availability' 'reviews' 'large_image_url'\n",
      " 'availability_type' 'small_image_url' 'editorial_review' 'title' 'model'\n",
      " 'medium_image_url' 'manufacturer' 'editorial_reivew']\n",
      "================================================================================\n"
     ]
    }
   ],
   "source": [
    "print('='*80)\n",
    "print(\"Number of data points in data=\", data.shape[0])\n",
    "print('-'*80)\n",
    "print(\"Number of Columns in data=\", data.shape[1])\n",
    "print('-'*80)\n",
    "print(\"The attributes(columns or features) of data =\\n\", data.columns.values)\n",
    "print('='*80)"
   ]
  },
  {
   "cell_type": "markdown",
   "metadata": {},
   "source": [
    "`1. asin ( Amazon standard identification number)`\n",
    "`2. brand ( brand to which the product belongs to )` \n",
    "`3. color ( Color information of apparel, it can contain many colors as a value ex: red and black stripes )`\n",
    "`4. product_type_name (type of the apperal, ex: SHIRT/TSHIRT )`\n",
    "`5. medium_image_url ( url of the image ) `\n",
    "`6. title (title of the product.) `\n",
    "`7. formatted_price (price of the product)`"
   ]
  },
  {
   "cell_type": "code",
   "execution_count": 7,
   "metadata": {},
   "outputs": [],
   "source": [
    "data = data[['asin', 'brand', 'color', 'medium_image_url', 'product_type_name', 'title', 'formatted_price']]"
   ]
  },
  {
   "cell_type": "code",
   "execution_count": 8,
   "metadata": {},
   "outputs": [
    {
     "data": {
      "text/html": [
       "<div>\n",
       "<style scoped>\n",
       "    .dataframe tbody tr th:only-of-type {\n",
       "        vertical-align: middle;\n",
       "    }\n",
       "\n",
       "    .dataframe tbody tr th {\n",
       "        vertical-align: top;\n",
       "    }\n",
       "\n",
       "    .dataframe thead th {\n",
       "        text-align: right;\n",
       "    }\n",
       "</style>\n",
       "<table border=\"1\" class=\"dataframe\">\n",
       "  <thead>\n",
       "    <tr style=\"text-align: right;\">\n",
       "      <th></th>\n",
       "      <th>asin</th>\n",
       "      <th>brand</th>\n",
       "      <th>color</th>\n",
       "      <th>medium_image_url</th>\n",
       "      <th>product_type_name</th>\n",
       "      <th>title</th>\n",
       "      <th>formatted_price</th>\n",
       "    </tr>\n",
       "  </thead>\n",
       "  <tbody>\n",
       "    <tr>\n",
       "      <th>0</th>\n",
       "      <td>B016I2TS4W</td>\n",
       "      <td>FNC7C</td>\n",
       "      <td>None</td>\n",
       "      <td>https://images-na.ssl-images-amazon.com/images...</td>\n",
       "      <td>SHIRT</td>\n",
       "      <td>Minions Como Superheroes Ironman Long Sleeve R...</td>\n",
       "      <td>None</td>\n",
       "    </tr>\n",
       "    <tr>\n",
       "      <th>1</th>\n",
       "      <td>B01N49AI08</td>\n",
       "      <td>FIG Clothing</td>\n",
       "      <td>None</td>\n",
       "      <td>https://images-na.ssl-images-amazon.com/images...</td>\n",
       "      <td>SHIRT</td>\n",
       "      <td>FIG Clothing Womens Izo Tunic</td>\n",
       "      <td>None</td>\n",
       "    </tr>\n",
       "    <tr>\n",
       "      <th>2</th>\n",
       "      <td>B01JDPCOHO</td>\n",
       "      <td>FIG Clothing</td>\n",
       "      <td>None</td>\n",
       "      <td>https://images-na.ssl-images-amazon.com/images...</td>\n",
       "      <td>SHIRT</td>\n",
       "      <td>FIG Clothing Womens Won Top</td>\n",
       "      <td>None</td>\n",
       "    </tr>\n",
       "  </tbody>\n",
       "</table>\n",
       "</div>"
      ],
      "text/plain": [
       "         asin         brand color  \\\n",
       "0  B016I2TS4W         FNC7C  None   \n",
       "1  B01N49AI08  FIG Clothing  None   \n",
       "2  B01JDPCOHO  FIG Clothing  None   \n",
       "\n",
       "                                    medium_image_url product_type_name  \\\n",
       "0  https://images-na.ssl-images-amazon.com/images...             SHIRT   \n",
       "1  https://images-na.ssl-images-amazon.com/images...             SHIRT   \n",
       "2  https://images-na.ssl-images-amazon.com/images...             SHIRT   \n",
       "\n",
       "                                               title formatted_price  \n",
       "0  Minions Como Superheroes Ironman Long Sleeve R...            None  \n",
       "1                      FIG Clothing Womens Izo Tunic            None  \n",
       "2                        FIG Clothing Womens Won Top            None  "
      ]
     },
     "execution_count": 8,
     "metadata": {},
     "output_type": "execute_result"
    }
   ],
   "source": [
    "data.head(3)"
   ]
  },
  {
   "cell_type": "code",
   "execution_count": 9,
   "metadata": {},
   "outputs": [
    {
     "data": {
      "text/plain": [
       "asin                      0\n",
       "brand                   151\n",
       "color                118182\n",
       "medium_image_url          0\n",
       "product_type_name         0\n",
       "title                     0\n",
       "formatted_price      154743\n",
       "dtype: int64"
      ]
     },
     "execution_count": 9,
     "metadata": {},
     "output_type": "execute_result"
    }
   ],
   "source": [
    "data.isna().sum()"
   ]
  },
  {
   "cell_type": "code",
   "execution_count": 10,
   "metadata": {},
   "outputs": [
    {
     "data": {
      "text/plain": [
       "asin                  0.000000\n",
       "brand                 0.082451\n",
       "color                64.531665\n",
       "medium_image_url      0.000000\n",
       "product_type_name     0.000000\n",
       "title                 0.000000\n",
       "formatted_price      84.495299\n",
       "dtype: float64"
      ]
     },
     "execution_count": 10,
     "metadata": {},
     "output_type": "execute_result"
    }
   ],
   "source": [
    "data.isna().sum()/len(data)*100"
   ]
  },
  {
   "cell_type": "code",
   "execution_count": 11,
   "metadata": {},
   "outputs": [],
   "source": [
    "#data=data[['asin', 'brand', 'medium_image_url', 'product_type_name', 'title']]"
   ]
  },
  {
   "cell_type": "code",
   "execution_count": null,
   "metadata": {},
   "outputs": [],
   "source": []
  },
  {
   "cell_type": "code",
   "execution_count": 12,
   "metadata": {},
   "outputs": [
    {
     "name": "stdout",
     "output_type": "stream",
     "text": [
      "================================================================================\n",
      "Number of data points After eliminating color=NULL : 64956\n",
      "================================================================================\n"
     ]
    }
   ],
   "source": [
    "# consider products which have color information\n",
    "# data['color'].isnull() => gives the information about the dataframe row's which have null values price == None|Null\n",
    "data =data.loc[~data['color'].isnull()]\n",
    "print('='*80)\n",
    "print('Number of data points After eliminating color=NULL :', data.shape[0])\n",
    "print('='*80)"
   ]
  },
  {
   "cell_type": "code",
   "execution_count": 13,
   "metadata": {},
   "outputs": [
    {
     "name": "stdout",
     "output_type": "stream",
     "text": [
      "================================================================================\n",
      "Number of data points After eliminating price=NULL : 28385\n",
      "================================================================================\n"
     ]
    }
   ],
   "source": [
    "data = data.loc[~data['formatted_price'].isnull()]\n",
    "print('='*80)\n",
    "print('Number of data points After eliminating price=NULL :', data.shape[0])\n",
    "print('='*80)"
   ]
  },
  {
   "cell_type": "code",
   "execution_count": 14,
   "metadata": {},
   "outputs": [
    {
     "data": {
      "text/plain": [
       "(28385, 7)"
      ]
     },
     "execution_count": 14,
     "metadata": {},
     "output_type": "execute_result"
    }
   ],
   "source": [
    "data.shape"
   ]
  },
  {
   "cell_type": "code",
   "execution_count": 15,
   "metadata": {},
   "outputs": [
    {
     "name": "stdout",
     "output_type": "stream",
     "text": [
      "================================================================================\n",
      "After removal of products with short description: 27949\n",
      "================================================================================\n"
     ]
    }
   ],
   "source": [
    "data_sorted = data[data['title'].apply(lambda x: len(x.split())>4)]\n",
    "print('='*80)\n",
    "print(\"After removal of products with short description:\", data_sorted.shape[0])\n",
    "print('='*80)"
   ]
  },
  {
   "cell_type": "code",
   "execution_count": 16,
   "metadata": {},
   "outputs": [
    {
     "data": {
      "text/html": [
       "<div>\n",
       "<style scoped>\n",
       "    .dataframe tbody tr th:only-of-type {\n",
       "        vertical-align: middle;\n",
       "    }\n",
       "\n",
       "    .dataframe tbody tr th {\n",
       "        vertical-align: top;\n",
       "    }\n",
       "\n",
       "    .dataframe thead th {\n",
       "        text-align: right;\n",
       "    }\n",
       "</style>\n",
       "<table border=\"1\" class=\"dataframe\">\n",
       "  <thead>\n",
       "    <tr style=\"text-align: right;\">\n",
       "      <th></th>\n",
       "      <th>asin</th>\n",
       "      <th>brand</th>\n",
       "      <th>color</th>\n",
       "      <th>medium_image_url</th>\n",
       "      <th>product_type_name</th>\n",
       "      <th>title</th>\n",
       "      <th>formatted_price</th>\n",
       "    </tr>\n",
       "  </thead>\n",
       "  <tbody>\n",
       "    <tr>\n",
       "      <th>109599</th>\n",
       "      <td>B00KI3VDXM</td>\n",
       "      <td>Crazy4Bling</td>\n",
       "      <td>Purple</td>\n",
       "      <td>https://images-na.ssl-images-amazon.com/images...</td>\n",
       "      <td>SHIRT</td>\n",
       "      <td>\"I Wanna Be Adored\" Long Sleeve Top with Shred...</td>\n",
       "      <td>$39.99</td>\n",
       "    </tr>\n",
       "    <tr>\n",
       "      <th>78827</th>\n",
       "      <td>B003IDE8XQ</td>\n",
       "      <td>Maggie's Organics</td>\n",
       "      <td>Grey</td>\n",
       "      <td>https://images-na.ssl-images-amazon.com/images...</td>\n",
       "      <td>HOME</td>\n",
       "      <td>\"Camisoles Grey - Medium Fair Labor, 1 pc\"</td>\n",
       "      <td>$18.99</td>\n",
       "    </tr>\n",
       "    <tr>\n",
       "      <th>118987</th>\n",
       "      <td>B008D30AGK</td>\n",
       "      <td>Out+of+Print+Clothing</td>\n",
       "      <td>Multicolored</td>\n",
       "      <td>https://images-na.ssl-images-amazon.com/images...</td>\n",
       "      <td>SHIRT</td>\n",
       "      <td>\"1984\" Retro Book Cover Women's SLim Fit T-Shi...</td>\n",
       "      <td>$7.51</td>\n",
       "    </tr>\n",
       "  </tbody>\n",
       "</table>\n",
       "</div>"
      ],
      "text/plain": [
       "              asin                  brand         color  \\\n",
       "109599  B00KI3VDXM            Crazy4Bling        Purple   \n",
       "78827   B003IDE8XQ      Maggie's Organics          Grey   \n",
       "118987  B008D30AGK  Out+of+Print+Clothing  Multicolored   \n",
       "\n",
       "                                         medium_image_url product_type_name  \\\n",
       "109599  https://images-na.ssl-images-amazon.com/images...             SHIRT   \n",
       "78827   https://images-na.ssl-images-amazon.com/images...              HOME   \n",
       "118987  https://images-na.ssl-images-amazon.com/images...             SHIRT   \n",
       "\n",
       "                                                    title formatted_price  \n",
       "109599  \"I Wanna Be Adored\" Long Sleeve Top with Shred...          $39.99  \n",
       "78827          \"Camisoles Grey - Medium Fair Labor, 1 pc\"          $18.99  \n",
       "118987  \"1984\" Retro Book Cover Women's SLim Fit T-Shi...           $7.51  "
      ]
     },
     "execution_count": 16,
     "metadata": {},
     "output_type": "execute_result"
    }
   ],
   "source": [
    "# Sort the whole data based on title (alphabetical order of title) \n",
    "data_sorted.sort_values('title',inplace=True, ascending=False)\n",
    "data_sorted.tail(3)"
   ]
  },
  {
   "cell_type": "code",
   "execution_count": 17,
   "metadata": {},
   "outputs": [
    {
     "data": {
      "text/plain": [
       "(27949, 7)"
      ]
     },
     "execution_count": 17,
     "metadata": {},
     "output_type": "execute_result"
    }
   ],
   "source": [
    "data_sorted.shape"
   ]
  },
  {
   "cell_type": "code",
   "execution_count": 18,
   "metadata": {},
   "outputs": [],
   "source": [
    "data_1=data_sorted.sample(13000)"
   ]
  },
  {
   "cell_type": "code",
   "execution_count": 19,
   "metadata": {},
   "outputs": [],
   "source": [
    "data_2=data_sorted.sample(13000)"
   ]
  },
  {
   "cell_type": "code",
   "execution_count": 20,
   "metadata": {},
   "outputs": [
    {
     "data": {
      "text/plain": [
       "(13000, 7)"
      ]
     },
     "execution_count": 20,
     "metadata": {},
     "output_type": "execute_result"
    }
   ],
   "source": [
    "data_1.shape"
   ]
  },
  {
   "cell_type": "code",
   "execution_count": 21,
   "metadata": {},
   "outputs": [
    {
     "data": {
      "text/plain": [
       "(13000, 7)"
      ]
     },
     "execution_count": 21,
     "metadata": {},
     "output_type": "execute_result"
    }
   ],
   "source": [
    "data_2.shape"
   ]
  },
  {
   "cell_type": "code",
   "execution_count": 22,
   "metadata": {},
   "outputs": [],
   "source": [
    "#df.to_excel(\"output.xlsx\")"
   ]
  },
  {
   "cell_type": "code",
   "execution_count": 23,
   "metadata": {},
   "outputs": [],
   "source": [
    "#data_1.to_excel('amazon_apparel_sheet_1.xlsx')"
   ]
  },
  {
   "cell_type": "code",
   "execution_count": 24,
   "metadata": {},
   "outputs": [],
   "source": [
    "#data_2.to_excel('amazon_apparel_sheet_2.xlsx')"
   ]
  },
  {
   "cell_type": "code",
   "execution_count": 2,
   "metadata": {},
   "outputs": [
    {
     "data": {
      "text/html": [
       "<div>\n",
       "<style scoped>\n",
       "    .dataframe tbody tr th:only-of-type {\n",
       "        vertical-align: middle;\n",
       "    }\n",
       "\n",
       "    .dataframe tbody tr th {\n",
       "        vertical-align: top;\n",
       "    }\n",
       "\n",
       "    .dataframe thead th {\n",
       "        text-align: right;\n",
       "    }\n",
       "</style>\n",
       "<table border=\"1\" class=\"dataframe\">\n",
       "  <thead>\n",
       "    <tr style=\"text-align: right;\">\n",
       "      <th></th>\n",
       "      <th>Unnamed: 0</th>\n",
       "      <th>asin</th>\n",
       "      <th>brand</th>\n",
       "      <th>color</th>\n",
       "      <th>medium_image_url</th>\n",
       "      <th>product_type_name</th>\n",
       "      <th>title</th>\n",
       "      <th>formatted_price</th>\n",
       "    </tr>\n",
       "  </thead>\n",
       "  <tbody>\n",
       "    <tr>\n",
       "      <th>0</th>\n",
       "      <td>175113</td>\n",
       "      <td>B07175QZVB</td>\n",
       "      <td>Eileen Fisher</td>\n",
       "      <td>Catalina</td>\n",
       "      <td>https://images-na.ssl-images-amazon.com/images...</td>\n",
       "      <td>SHIRT</td>\n",
       "      <td>Eileen Fisher Solid Boatneck Top, Size-XL</td>\n",
       "      <td>$79.00</td>\n",
       "    </tr>\n",
       "    <tr>\n",
       "      <th>1</th>\n",
       "      <td>28723</td>\n",
       "      <td>B01MSZ1EO7</td>\n",
       "      <td>Esprit</td>\n",
       "      <td>110 Off White</td>\n",
       "      <td>https://images-na.ssl-images-amazon.com/images...</td>\n",
       "      <td>SWEATER</td>\n",
       "      <td>Esprit Women's White Melange Women's Printed J...</td>\n",
       "      <td>$109.97</td>\n",
       "    </tr>\n",
       "  </tbody>\n",
       "</table>\n",
       "</div>"
      ],
      "text/plain": [
       "   Unnamed: 0        asin          brand          color  \\\n",
       "0      175113  B07175QZVB  Eileen Fisher       Catalina   \n",
       "1       28723  B01MSZ1EO7         Esprit  110 Off White   \n",
       "\n",
       "                                    medium_image_url product_type_name  \\\n",
       "0  https://images-na.ssl-images-amazon.com/images...             SHIRT   \n",
       "1  https://images-na.ssl-images-amazon.com/images...           SWEATER   \n",
       "\n",
       "                                               title formatted_price  \n",
       "0          Eileen Fisher Solid Boatneck Top, Size-XL          $79.00  \n",
       "1  Esprit Women's White Melange Women's Printed J...         $109.97  "
      ]
     },
     "execution_count": 2,
     "metadata": {},
     "output_type": "execute_result"
    }
   ],
   "source": [
    "data_1=pd.read_excel(\"amazon_apparel_sheet_1.xlsx\")\n",
    "data_1.head(2)"
   ]
  },
  {
   "cell_type": "code",
   "execution_count": 3,
   "metadata": {},
   "outputs": [
    {
     "data": {
      "text/html": [
       "<div>\n",
       "<style scoped>\n",
       "    .dataframe tbody tr th:only-of-type {\n",
       "        vertical-align: middle;\n",
       "    }\n",
       "\n",
       "    .dataframe tbody tr th {\n",
       "        vertical-align: top;\n",
       "    }\n",
       "\n",
       "    .dataframe thead th {\n",
       "        text-align: right;\n",
       "    }\n",
       "</style>\n",
       "<table border=\"1\" class=\"dataframe\">\n",
       "  <thead>\n",
       "    <tr style=\"text-align: right;\">\n",
       "      <th></th>\n",
       "      <th>Unnamed: 0</th>\n",
       "      <th>asin</th>\n",
       "      <th>brand</th>\n",
       "      <th>color</th>\n",
       "      <th>medium_image_url</th>\n",
       "      <th>product_type_name</th>\n",
       "      <th>title</th>\n",
       "      <th>formatted_price</th>\n",
       "    </tr>\n",
       "  </thead>\n",
       "  <tbody>\n",
       "    <tr>\n",
       "      <th>0</th>\n",
       "      <td>85682</td>\n",
       "      <td>B06XPG6DMG</td>\n",
       "      <td>Head Case Designs</td>\n",
       "      <td>She Leaves Sparkle on White</td>\n",
       "      <td>https://images-na.ssl-images-amazon.com/images...</td>\n",
       "      <td>SHIRT</td>\n",
       "      <td>Official Tangerine-Tane She Leaves Sparkle Art...</td>\n",
       "      <td>$28.45</td>\n",
       "    </tr>\n",
       "    <tr>\n",
       "      <th>1</th>\n",
       "      <td>126443</td>\n",
       "      <td>B01GC5WSK6</td>\n",
       "      <td>BRMWs</td>\n",
       "      <td>Black-1</td>\n",
       "      <td>https://images-na.ssl-images-amazon.com/images...</td>\n",
       "      <td>BOOKS_1973_AND_LATER</td>\n",
       "      <td>Arsenal F.C. Logo Herbert Chapman Women 3/4 Sl...</td>\n",
       "      <td>$10.80</td>\n",
       "    </tr>\n",
       "  </tbody>\n",
       "</table>\n",
       "</div>"
      ],
      "text/plain": [
       "   Unnamed: 0        asin              brand                        color  \\\n",
       "0       85682  B06XPG6DMG  Head Case Designs  She Leaves Sparkle on White   \n",
       "1      126443  B01GC5WSK6              BRMWs                      Black-1   \n",
       "\n",
       "                                    medium_image_url     product_type_name  \\\n",
       "0  https://images-na.ssl-images-amazon.com/images...                 SHIRT   \n",
       "1  https://images-na.ssl-images-amazon.com/images...  BOOKS_1973_AND_LATER   \n",
       "\n",
       "                                               title formatted_price  \n",
       "0  Official Tangerine-Tane She Leaves Sparkle Art...          $28.45  \n",
       "1  Arsenal F.C. Logo Herbert Chapman Women 3/4 Sl...          $10.80  "
      ]
     },
     "execution_count": 3,
     "metadata": {},
     "output_type": "execute_result"
    }
   ],
   "source": [
    "data_2=pd.read_excel(\"amazon_apparel_sheet_2.xlsx\")\n",
    "data_2.head(2)"
   ]
  },
  {
   "cell_type": "markdown",
   "metadata": {},
   "source": [
    "# Text Prepocessing & Vectorization of Text Data"
   ]
  },
  {
   "cell_type": "code",
   "execution_count": 4,
   "metadata": {},
   "outputs": [
    {
     "name": "stderr",
     "output_type": "stream",
     "text": [
      "[nltk_data] Downloading package stopwords to C:\\Users\\DR SNEHAL\n",
      "[nltk_data]     BANKAR\\AppData\\Roaming\\nltk_data...\n",
      "[nltk_data]   Package stopwords is already up-to-date!\n"
     ]
    },
    {
     "data": {
      "text/plain": [
       "True"
      ]
     },
     "execution_count": 4,
     "metadata": {},
     "output_type": "execute_result"
    }
   ],
   "source": [
    "import nltk\n",
    "nltk.download('stopwords')"
   ]
  },
  {
   "cell_type": "code",
   "execution_count": 5,
   "metadata": {},
   "outputs": [
    {
     "name": "stdout",
     "output_type": "stream",
     "text": [
      "list of stop words: {'very', 'the', 'some', 'itself', 'who', 'now', 've', 'can', 'isn', 'shouldn', 'below', \"needn't\", 'had', 'me', 'm', 'from', 'hers', 'you', 'into', 'just', \"couldn't\", \"you'll\", \"doesn't\", 'ma', 'am', 'or', 'if', 'shan', 'out', \"shouldn't\", 'won', 'no', 'themselves', 'for', 'with', 'should', \"she's\", 'herself', 'in', 'why', 'those', 'their', 's', 'y', \"shan't\", 'then', 'after', 'haven', 'being', \"weren't\", 'under', 'too', 'will', 'having', 'our', 'ain', 'more', \"hadn't\", 'do', 'during', 'once', 'them', 'his', \"isn't\", \"mustn't\", 'both', \"wouldn't\", \"hasn't\", 'are', 'been', 'a', 'have', 'up', 'here', 'an', 'd', 'couldn', \"it's\", 'on', \"aren't\", \"wasn't\", \"you've\", 'where', 'as', \"should've\", 'yourselves', 'its', 'whom', 'wouldn', 'her', 'of', 'between', 'against', 'than', 'how', 'until', 'each', 'o', 'over', 'not', 'but', 'hadn', 'such', 'doesn', 'yours', 'does', 'by', 'mightn', 're', 'has', 'll', 'few', \"didn't\", 'that', 'my', 't', 'was', 'again', 'down', 'ours', 'don', 'these', 'before', 'nor', 'all', 'aren', 'needn', 'there', 'were', 'which', 'own', 'at', 'theirs', 'doing', 'about', 'is', 'him', 'himself', \"you're\", 'and', 'he', 'when', 'she', 'above', 'while', 'hasn', 'did', 'mustn', \"mightn't\", 'what', 'be', \"won't\", 'any', 'further', 'ourselves', 'myself', 'because', 'your', 'most', 'through', \"you'd\", 'this', 'we', 'wasn', 'yourself', 'weren', 'didn', 'same', 'i', 'it', \"don't\", \"haven't\", 'to', 'they', 'off', 'only', \"that'll\", 'so', 'other'}\n"
     ]
    }
   ],
   "source": [
    "# we use the list of stop words that are downloaded from nltk lib.\n",
    "stop_words = set(stopwords.words('english'))\n",
    "print ('list of stop words:', stop_words)\n",
    "\n",
    "def nlp_preprocessing(total_text, index, column,df):\n",
    "    if type(total_text) is not int:\n",
    "        string = \"\"\n",
    "        for words in total_text.split():\n",
    "            # remove the special chars in review like '\"#$@!%^&*()_+-~?>< etc.\n",
    "            word = (\"\".join(e for e in words if e.isalnum()))\n",
    "            # Conver all letters to lower-case\n",
    "            word = word.lower()\n",
    "            # stop-word removal\n",
    "            if not word in stop_words:\n",
    "                string += word + \" \"\n",
    "        df[column][index] = string"
   ]
  },
  {
   "cell_type": "code",
   "execution_count": 6,
   "metadata": {},
   "outputs": [
    {
     "name": "stdout",
     "output_type": "stream",
     "text": [
      "6.466201799999993 seconds\n"
     ]
    }
   ],
   "source": [
    "start_time = time.clock()\n",
    "# we take each title and we text-preprocess it.\n",
    "for index, row in data_1.iterrows():\n",
    "    nlp_preprocessing(row['title'], index, 'title',data_1)\n",
    "# we print the time it took to preprocess whole titles \n",
    "print(time.clock() - start_time, \"seconds\")"
   ]
  },
  {
   "cell_type": "code",
   "execution_count": 7,
   "metadata": {},
   "outputs": [
    {
     "data": {
      "text/plain": [
       "0             eileen fisher solid boatneck top sizexl \n",
       "1    esprit womens white melange womens printed jum...\n",
       "Name: title, dtype: object"
      ]
     },
     "execution_count": 7,
     "metadata": {},
     "output_type": "execute_result"
    }
   ],
   "source": [
    "data_1['title'].head(2)"
   ]
  },
  {
   "cell_type": "code",
   "execution_count": 8,
   "metadata": {},
   "outputs": [
    {
     "name": "stdout",
     "output_type": "stream",
     "text": [
      "6.5052797999999825 seconds\n"
     ]
    }
   ],
   "source": [
    "start_time = time.clock()\n",
    "# we take each title and we text-preprocess it.\n",
    "for index, row in data_2.iterrows():\n",
    "    nlp_preprocessing(row['title'], index, 'title',data_2)\n",
    "# we print the time it took to preprocess whole titles \n",
    "print(time.clock() - start_time, \"seconds\")"
   ]
  },
  {
   "cell_type": "code",
   "execution_count": 9,
   "metadata": {},
   "outputs": [
    {
     "data": {
      "text/plain": [
       "0    official tangerinetane leaves sparkle art xl  ...\n",
       "1    arsenal fc logo herbert chapman women 34 sleev...\n",
       "Name: title, dtype: object"
      ]
     },
     "execution_count": 9,
     "metadata": {},
     "output_type": "execute_result"
    }
   ],
   "source": [
    "data_2['title'].head(2)"
   ]
  },
  {
   "cell_type": "code",
   "execution_count": 10,
   "metadata": {},
   "outputs": [
    {
     "data": {
      "text/plain": [
       "(13000, 11767)"
      ]
     },
     "execution_count": 10,
     "metadata": {},
     "output_type": "execute_result"
    }
   ],
   "source": [
    "from sklearn.feature_extraction.text import CountVectorizer\n",
    "title_vectorizer = CountVectorizer()\n",
    "title_vectorizer.fit((data_1['title'].values)+(data_2['title'].values))\n",
    "title_features_1=title_vectorizer.transform(data_1['title'].values)\n",
    "title_features_1.get_shape() # get number of rows and columns in feature matrix."
   ]
  },
  {
   "cell_type": "code",
   "execution_count": 11,
   "metadata": {},
   "outputs": [
    {
     "data": {
      "text/plain": [
       "(13000, 11767)"
      ]
     },
     "execution_count": 11,
     "metadata": {},
     "output_type": "execute_result"
    }
   ],
   "source": [
    "from sklearn.feature_extraction.text import CountVectorizer\n",
    "#title_vectorizer = CountVectorizer(max_features=title_features_1.get_shape()[1])\n",
    "title_features_2   = title_vectorizer.transform(data_2['title'].values)\n",
    "title_features_2.get_shape() # get number of rows and columns in feature matrix."
   ]
  },
  {
   "cell_type": "code",
   "execution_count": 12,
   "metadata": {},
   "outputs": [],
   "source": [
    "from sklearn.metrics.pairwise import cosine_similarity"
   ]
  },
  {
   "cell_type": "code",
   "execution_count": 13,
   "metadata": {},
   "outputs": [],
   "source": [
    "pairwise_dist = cosine_similarity(title_features_1[100],title_features_2[100])"
   ]
  },
  {
   "cell_type": "code",
   "execution_count": 14,
   "metadata": {},
   "outputs": [
    {
     "data": {
      "text/plain": [
       "(1, 1)"
      ]
     },
     "execution_count": 14,
     "metadata": {},
     "output_type": "execute_result"
    }
   ],
   "source": [
    "pairwise_dist.shape"
   ]
  },
  {
   "cell_type": "code",
   "execution_count": 15,
   "metadata": {},
   "outputs": [
    {
     "data": {
      "text/plain": [
       "(array([], dtype=int64), array([], dtype=int64))"
      ]
     },
     "execution_count": 15,
     "metadata": {},
     "output_type": "execute_result"
    }
   ],
   "source": [
    "np.nonzero(pairwise_dist)"
   ]
  },
  {
   "cell_type": "code",
   "execution_count": 16,
   "metadata": {},
   "outputs": [],
   "source": [
    "#data_2['title'][165580]"
   ]
  },
  {
   "cell_type": "code",
   "execution_count": 17,
   "metadata": {},
   "outputs": [
    {
     "data": {
      "text/plain": [
       "0.0"
      ]
     },
     "execution_count": 17,
     "metadata": {},
     "output_type": "execute_result"
    }
   ],
   "source": [
    "np.amax(pairwise_dist)"
   ]
  },
  {
   "cell_type": "code",
   "execution_count": null,
   "metadata": {},
   "outputs": [],
   "source": []
  },
  {
   "cell_type": "code",
   "execution_count": null,
   "metadata": {},
   "outputs": [],
   "source": []
  },
  {
   "cell_type": "code",
   "execution_count": 18,
   "metadata": {},
   "outputs": [],
   "source": [
    "def bag_of_words_model(doc_id, num_results):\n",
    "    # doc_id: apparel's id in given corpus\n",
    "    \n",
    "    # pairwise_dist will store the distance from given input apparel to all remaining apparels\n",
    "    # the metric we used here is cosine, the coside distance is mesured as K(X, Y) = <X, Y> / (||X||*||Y||)\n",
    "    # http://scikit-learn.org/stable/modules/metrics.html#cosine-similarity\n",
    "    print(\"Title from dataset 2:\",data_2.iloc[doc_id]['title'])\n",
    "    print('='*60)\n",
    "    pairwise_dist = cosine_similarity(title_features_1,title_features_2[doc_id])\n",
    "    \n",
    "    # np.argsort will return indices of the smallest distances\n",
    "    indices = np.argsort(pairwise_dist.flatten())[::-1][0:num_results]\n",
    "    #pdists will store the smallest distances\n",
    "    pdists  = np.sort(pairwise_dist.flatten())[::-1][0:num_results]\n",
    "\n",
    "    #data frame indices of the 9 smallest distace's\n",
    "    df_indices = list(data_1.index[indices])\n",
    "    \n",
    "    for i in range(0,len(indices)):\n",
    "        # we will pass 1. doc_id, 2. title1, 3. title2, url, model\n",
    "        #get_result(indices[i],data['title'].loc[df_indices[0]], data['title'].loc[df_indices[i]], data['medium_image_url'].loc[df_indices[i]], 'bag_of_words')\n",
    "        print('ASIN :',data_1['asin'].loc[df_indices[i]])\n",
    "        print ('Brand:', data_1['brand'].loc[df_indices[i]])\n",
    "        print ('Title:', data_1['title'].loc[df_indices[i]])\n",
    "        print ('Cosine similarity with the query point',pdists[i])\n",
    "        print('='*60)"
   ]
  },
  {
   "cell_type": "code",
   "execution_count": 19,
   "metadata": {},
   "outputs": [],
   "source": [
    "data_1=data_1.reset_index(drop=True)"
   ]
  },
  {
   "cell_type": "code",
   "execution_count": 20,
   "metadata": {},
   "outputs": [
    {
     "data": {
      "text/plain": [
       "Int64Index([1680], dtype='int64')"
      ]
     },
     "execution_count": 20,
     "metadata": {},
     "output_type": "execute_result"
    }
   ],
   "source": [
    "data_1[data_1['asin']=='B074JBMY4C'].index"
   ]
  },
  {
   "cell_type": "code",
   "execution_count": 21,
   "metadata": {
    "scrolled": false
   },
   "outputs": [
    {
     "name": "stdout",
     "output_type": "stream",
     "text": [
      "Title from dataset 2: blousebaomabao women summer lace vest shirt casual tank tops medium \n",
      "============================================================\n",
      "ASIN : B01EMNLU90\n",
      "Brand: Baomabao_Shirt\n",
      "Title: blousebaomabao women summer lace vest shirt casual tank tops xlarge \n",
      "Cosine similarity with the query point 0.8999999999999999\n",
      "============================================================\n",
      "ASIN : B01F852VDK\n",
      "Brand: Perman\n",
      "Title: perman women summer vest sleeveless shirt blouse casual tank tops tshirt l black \n",
      "Cosine similarity with the query point 0.6390096504226939\n",
      "============================================================\n",
      "ASIN : B01J5G7NMW\n",
      "Brand: Sumilulu\n",
      "Title: sumilulu women summer vest sleeveless blouse casual tank tops tshirt xl \n",
      "Cosine similarity with the query point 0.5720775535473555\n",
      "============================================================\n",
      "ASIN : B01E9T0ZX4\n",
      "Brand: Overmal Top\n",
      "Title: overmal women summer lace vest top short sleeve blouse tank tops tshirt l \n",
      "Cosine similarity with the query point 0.5477225575051662\n",
      "============================================================\n",
      "ASIN : B01J5F5D5C\n",
      "Brand: Sumilulu\n",
      "Title: sumilulu fashion women summer vest top sleeveless blouse casual tank tops tshirt l \n",
      "Cosine similarity with the query point 0.5477225575051662\n",
      "============================================================\n"
     ]
    }
   ],
   "source": [
    "bag_of_words_model(400, 5)"
   ]
  },
  {
   "cell_type": "code",
   "execution_count": null,
   "metadata": {},
   "outputs": [],
   "source": []
  },
  {
   "cell_type": "code",
   "execution_count": null,
   "metadata": {},
   "outputs": [],
   "source": []
  },
  {
   "cell_type": "code",
   "execution_count": 22,
   "metadata": {},
   "outputs": [],
   "source": [
    "from sklearn.feature_extraction.text import TfidfVectorizer"
   ]
  },
  {
   "cell_type": "code",
   "execution_count": 23,
   "metadata": {},
   "outputs": [],
   "source": [
    "tfidf_title_vectorizer = TfidfVectorizer()\n",
    "tfidf_title_vectorizer.fit((data_1['title'].values)+(data_2['title'].values))\n",
    "\n",
    "title_feature_1_tfidf=tfidf_title_vectorizer.transform(data_1['title'].values)\n",
    "title_feature_2_tfidf=tfidf_title_vectorizer.transform(data_2['title'].values)"
   ]
  },
  {
   "cell_type": "code",
   "execution_count": 24,
   "metadata": {},
   "outputs": [],
   "source": [
    "def tfidf_model(doc_id, num_results):\n",
    "    # doc_id: apparel's id in given corpus\n",
    "    \n",
    "    # pairwise_dist will store the distance from given input apparel to all remaining apparels\n",
    "    # the metric we used here is cosine, the coside distance is mesured as K(X, Y) = <X, Y> / (||X||*||Y||)\n",
    "    # http://scikit-learn.org/stable/modules/metrics.html#cosine-similarity\n",
    "    print(\"Title from dataset 2:\",data_2.iloc[doc_id]['title'])\n",
    "    print('='*60)\n",
    "    pairwise_dist = cosine_similarity(title_feature_1_tfidf,title_feature_2_tfidf[doc_id])\n",
    "    \n",
    "    # np.argsort will return indices of the smallest distances\n",
    "    indices = np.argsort(pairwise_dist.flatten())[::-1][0:num_results]\n",
    "    #pdists will store the smallest distances\n",
    "    pdists  = np.sort(pairwise_dist.flatten())[::-1][0:num_results]\n",
    "\n",
    "    #data frame indices of the 9 smallest distace's\n",
    "    df_indices = list(data_1.index[indices])\n",
    "    \n",
    "    for i in range(0,len(indices)):\n",
    "        # we will pass 1. doc_id, 2. title1, 3. title2, url, model\n",
    "        #get_result(indices[i],data['title'].loc[df_indices[0]], data['title'].loc[df_indices[i]], data['medium_image_url'].loc[df_indices[i]], 'bag_of_words')\n",
    "        print('ASIN :',data_1['asin'].loc[df_indices[i]])\n",
    "        print ('Brand:', data_1['brand'].loc[df_indices[i]])\n",
    "        print ('Title:', data_1['title'].loc[df_indices[i]])\n",
    "        print ('Cosine similarity with the query point',pdists[i])\n",
    "        print('='*60)"
   ]
  },
  {
   "cell_type": "code",
   "execution_count": 25,
   "metadata": {},
   "outputs": [
    {
     "name": "stdout",
     "output_type": "stream",
     "text": [
      "Title from dataset 2: blousebaomabao women summer lace vest shirt casual tank tops medium \n",
      "============================================================\n",
      "ASIN : B01EMNLU90\n",
      "Brand: Baomabao_Shirt\n",
      "Title: blousebaomabao women summer lace vest shirt casual tank tops xlarge \n",
      "Cosine similarity with the query point 0.9267240987341656\n",
      "============================================================\n",
      "ASIN : B01F852VDK\n",
      "Brand: Perman\n",
      "Title: perman women summer vest sleeveless shirt blouse casual tank tops tshirt l black \n",
      "Cosine similarity with the query point 0.37931874956633915\n",
      "============================================================\n",
      "ASIN : B01E9T0ZX4\n",
      "Brand: Overmal Top\n",
      "Title: overmal women summer lace vest top short sleeve blouse tank tops tshirt l \n",
      "Cosine similarity with the query point 0.37758531649196314\n",
      "============================================================\n",
      "ASIN : B01E9T0ZSE\n",
      "Brand: Overmal Top\n",
      "Title: overmal women summer lace vest top short sleeve blouse tank tops tshirt xl \n",
      "Cosine similarity with the query point 0.36559599980501256\n",
      "============================================================\n",
      "ASIN : B01J5G7NMW\n",
      "Brand: Sumilulu\n",
      "Title: sumilulu women summer vest sleeveless blouse casual tank tops tshirt xl \n",
      "Cosine similarity with the query point 0.3525769471601655\n",
      "============================================================\n"
     ]
    }
   ],
   "source": [
    "tfidf_model(400, 5)"
   ]
  },
  {
   "cell_type": "code",
   "execution_count": 32,
   "metadata": {},
   "outputs": [],
   "source": [
    "data_1['brand'].fillna(value=\"Not given\", inplace=True)\n",
    "data_2['brand'].fillna(value=\"Not given\", inplace=True)"
   ]
  },
  {
   "cell_type": "code",
   "execution_count": 44,
   "metadata": {},
   "outputs": [],
   "source": [
    "#data_2['brand'].nunique()"
   ]
  },
  {
   "cell_type": "code",
   "execution_count": 45,
   "metadata": {},
   "outputs": [],
   "source": [
    "#data_2.head("
   ]
  },
  {
   "cell_type": "code",
   "execution_count": 37,
   "metadata": {},
   "outputs": [],
   "source": [
    "brands = [x.replace(\" \", \"-\") for x in data_1['brand'].values + data_2['brand'].values]\n",
    "types = [x.replace(\" \", \"-\") for x in data_1['product_type_name'].values + data_2['product_type_name'].values]\n",
    "colors = [x.replace(\" \", \"-\") for x in data_1['color'].values + data_2['color'].values]"
   ]
  },
  {
   "cell_type": "code",
   "execution_count": 38,
   "metadata": {},
   "outputs": [],
   "source": [
    "brand_vectorizer = CountVectorizer()\n",
    "brand_features = brand_vectorizer.fit_transform(brands)\n",
    "\n",
    "type_vectorizer = CountVectorizer()\n",
    "type_features = type_vectorizer.fit_transform(types)\n",
    "\n",
    "color_vectorizer = CountVectorizer()\n",
    "color_features = color_vectorizer.fit_transform(colors)\n",
    "\n",
    "extra_features = hstack((brand_features, type_features, color_features)).tocsr()"
   ]
  },
  {
   "cell_type": "code",
   "execution_count": null,
   "metadata": {},
   "outputs": [],
   "source": []
  },
  {
   "cell_type": "code",
   "execution_count": 41,
   "metadata": {},
   "outputs": [],
   "source": [
    "def tfidf_weighted_other_feature_model(doc_id, w1, w2, num_results):\n",
    "    # doc_id: apparel's id in given corpus\n",
    "    \n",
    "    # pairwise_dist will store the distance from given input apparel to all remaining apparels\n",
    "    # the metric we used here is cosine, the coside distance is mesured as K(X, Y) = <X, Y> / (||X||*||Y||)\n",
    "    # http://scikit-learn.org/stable/modules/metrics.html#cosine-similarity\n",
    "    print(\"Title from dataset 2:\",data_2.iloc[doc_id]['title'])\n",
    "    print('='*60)\n",
    "    tfidf_dist = cosine_similarity(title_feature_1_tfidf,title_feature_2_tfidf[doc_id])\n",
    "    ex_feat_dist = cosine_similarity(extra_features, extra_features[doc_id])\n",
    "    pairwise_dist   = (w1 * tfidf_dist +  w2 * ex_feat_dist)/float(w1 + w2)\n",
    "    \n",
    "    # np.argsort will return indices of the smallest distances\n",
    "    indices = np.argsort(pairwise_dist.flatten())[::-1][0:num_results]\n",
    "    #pdists will store the smallest distances\n",
    "    pdists  = np.sort(pairwise_dist.flatten())[::-1][0:num_results]\n",
    "\n",
    "    #data frame indices of the 9 smallest distace's\n",
    "    df_indices = list(data_1.index[indices])\n",
    "    \n",
    "    for i in range(0,len(indices)):\n",
    "        # we will pass 1. doc_id, 2. title1, 3. title2, url, model\n",
    "        #get_result(indices[i],data['title'].loc[df_indices[0]], data['title'].loc[df_indices[i]], data['medium_image_url'].loc[df_indices[i]], 'bag_of_words')\n",
    "        print('ASIN :',data_1['asin'].loc[df_indices[i]])\n",
    "        print ('Brand:', data_1['brand'].loc[df_indices[i]])\n",
    "        print ('Title:', data_1['title'].loc[df_indices[i]])\n",
    "        print ('Cosine similarity with the query point',pdists[i])\n",
    "        print('='*60)"
   ]
  },
  {
   "cell_type": "code",
   "execution_count": null,
   "metadata": {},
   "outputs": [],
   "source": []
  },
  {
   "cell_type": "code",
   "execution_count": 43,
   "metadata": {},
   "outputs": [
    {
     "name": "stdout",
     "output_type": "stream",
     "text": [
      "Title from dataset 2: wine yoga pants bachelor tank top small black \n",
      "============================================================\n",
      "ASIN : B01N0DNI1C\n",
      "Brand: Kylin Express\n",
      "Title: elegant shirt collar neckband detachable false collar stand collar fake collar yellow \n",
      "Cosine similarity with the query point 0.8\n",
      "============================================================\n",
      "ASIN : B01N9K7981\n",
      "Brand: Kylin Express\n",
      "Title: detachable false collar necklace elegant shirt collar fake collar stand collar 06 \n",
      "Cosine similarity with the query point 0.5366563145999496\n",
      "============================================================\n",
      "ASIN : B074LD6NF7\n",
      "Brand: KpopBaby\n",
      "Title: kpopbaby womens long sleeve knitted casual cardigan outwear coats sweater tops yellow \n",
      "Cosine similarity with the query point 0.46188021535170065\n",
      "============================================================\n",
      "ASIN : B0713TJWGP\n",
      "Brand: TBONTB\n",
      "Title: 34 sleeve tunic top women small mustard yellow \n",
      "Cosine similarity with the query point 0.4125454416727926\n",
      "============================================================\n",
      "ASIN : B00P1OVV9E\n",
      "Brand: Emmas Closet\n",
      "Title: womens long sleeve bamboo top loose fit tunic medium yellow \n",
      "Cosine similarity with the query point 0.40298019051652495\n",
      "============================================================\n"
     ]
    }
   ],
   "source": [
    "tfidf_weighted_other_feature_model(12566, 5, 20, 5)"
   ]
  },
  {
   "cell_type": "code",
   "execution_count": null,
   "metadata": {},
   "outputs": [],
   "source": []
  },
  {
   "cell_type": "code",
   "execution_count": null,
   "metadata": {},
   "outputs": [],
   "source": []
  },
  {
   "cell_type": "code",
   "execution_count": null,
   "metadata": {},
   "outputs": [],
   "source": []
  },
  {
   "cell_type": "code",
   "execution_count": 3,
   "metadata": {},
   "outputs": [],
   "source": [
    "#!pip install tensorflow"
   ]
  },
  {
   "cell_type": "code",
   "execution_count": null,
   "metadata": {},
   "outputs": [],
   "source": []
  },
  {
   "cell_type": "code",
   "execution_count": null,
   "metadata": {},
   "outputs": [],
   "source": []
  },
  {
   "cell_type": "code",
   "execution_count": null,
   "metadata": {},
   "outputs": [],
   "source": []
  },
  {
   "cell_type": "code",
   "execution_count": null,
   "metadata": {},
   "outputs": [],
   "source": []
  },
  {
   "cell_type": "code",
   "execution_count": null,
   "metadata": {},
   "outputs": [],
   "source": []
  },
  {
   "cell_type": "code",
   "execution_count": null,
   "metadata": {},
   "outputs": [],
   "source": []
  },
  {
   "cell_type": "code",
   "execution_count": null,
   "metadata": {},
   "outputs": [],
   "source": []
  },
  {
   "cell_type": "code",
   "execution_count": null,
   "metadata": {},
   "outputs": [],
   "source": []
  },
  {
   "cell_type": "code",
   "execution_count": null,
   "metadata": {},
   "outputs": [],
   "source": []
  }
 ],
 "metadata": {
  "kernelspec": {
   "display_name": "Python 3",
   "language": "python",
   "name": "python3"
  },
  "language_info": {
   "codemirror_mode": {
    "name": "ipython",
    "version": 3
   },
   "file_extension": ".py",
   "mimetype": "text/x-python",
   "name": "python",
   "nbconvert_exporter": "python",
   "pygments_lexer": "ipython3",
   "version": "3.7.6"
  }
 },
 "nbformat": 4,
 "nbformat_minor": 4
}
